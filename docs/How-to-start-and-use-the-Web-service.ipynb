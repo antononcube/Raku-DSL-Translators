{
 "cells": [
  {
   "cell_type": "markdown",
   "metadata": {},
   "source": [
    "# DSL translation web service\n",
    "\n",
    "Anton Antonov   \n",
    "RakuForPrediction at WordPress   \n",
    "RakuForPrediction-book at GitHub   \n",
    "August 2024"
   ]
  },
  {
   "cell_type": "markdown",
   "metadata": {},
   "source": [
    "------- \n",
    "\n",
    "## Setup (notebook)"
   ]
  },
  {
   "cell_type": "code",
   "execution_count": 26,
   "metadata": {},
   "outputs": [],
   "source": [
    "use HTTP::Tiny;\n",
    "use JSON::Fast;\n",
    "use URI::Encode;\n",
    "\n",
    "use Data::Importers;\n",
    "use Data::Reshapers;\n",
    "use Data::Generators;\n",
    "use Data::ExampleDatasets;"
   ]
  },
  {
   "cell_type": "code",
   "execution_count": 27,
   "metadata": {},
   "outputs": [
    {
     "data": {
      "text/plain": [
       "gpt-4o"
      ]
     },
     "execution_count": 27,
     "metadata": {},
     "output_type": "execute_result"
    }
   ],
   "source": [
    "my $port = 9191;\n",
    "my $llm-model = 'gpt-4o';"
   ]
  },
  {
   "cell_type": "markdown",
   "metadata": {},
   "source": [
    "-------\n",
    "\n",
    "## Start the service"
   ]
  },
  {
   "cell_type": "markdown",
   "metadata": {},
   "source": [
    "Here is the help message of `dsl-web-translation-service`:\n",
    "\n",
    "```\n",
    "dsl-web-translation-service --help\n",
    "\n",
    "Usage:\n",
    "  dsl-web-translation-service [--host=<Str>] [--port=<Str>] [--llm=<Str>] [--llm-model=<Str>] [--llm-api-key=<Str>] -- Start a Cro service for translation of DSLs into executable code.\n",
    "  \n",
    "    --host=<Str>           Host name. [default: 'localhost']\n",
    "    --port=<Str>           Port. [default: '10000']\n",
    "    --llm=<Str>            LLM service to use. [default: 'ChatGPT']\n",
    "    --llm-model=<Str>      LLM model to use. [default: 'gpt-3.5-turbo']\n",
    "    --llm-api-key=<Str>    LLM API key; if an empty string the corresponding env variable is used. [default: '']\n",
    "```"
   ]
  },
  {
   "cell_type": "markdown",
   "metadata": {},
   "source": [
    "For example start the DSL web service with the command:\n",
    "\n",
    "```\n",
    "dsl-web-translation-service --port=9191 --llm-model=gpt-4o\n",
    "```"
   ]
  },
  {
   "cell_type": "markdown",
   "metadata": {},
   "source": [
    "----------\n",
    "\n",
    "## LLM setup of the Web service"
   ]
  },
  {
   "cell_type": "markdown",
   "metadata": {},
   "source": [
    "### OpenAI API key\n",
    "\n",
    "Set OPENAI_API_KEY with the URL:\n",
    "\n",
    "```\n",
    "http://localhost:9191/setup?api_key=<YOUR_API_KEY>\n",
    "```\n",
    "\n",
    "Or the command:\n",
    "\n",
    "```\n",
    "http://localhost:9191/setup?llm=ChatGPT&api_key=<YOUR_API_KEY>\n",
    "```"
   ]
  },
  {
   "cell_type": "code",
   "execution_count": 28,
   "metadata": {},
   "outputs": [
    {
     "data": {
      "text/plain": [
       "{\n",
       "  \"import\": \"Setup is successful.\"\n",
       "}"
      ]
     },
     "execution_count": 28,
     "metadata": {},
     "output_type": "execute_result"
    }
   ],
   "source": [
    "my $url = \"http://localhost:$port/setup?llm=gemini&user_id={uri_encode(random-pet-name)}&model={uri_encode('gemini-1.5-flash')}&api_key={uri_encode(%*ENV<PALM_API_KEY>)}\";\n",
    "my $resp = HTTP::Tiny.get($url);\n",
    "$resp<content>.decode"
   ]
  },
  {
   "cell_type": "code",
   "execution_count": null,
   "metadata": {},
   "outputs": [],
   "source": [
    "my $url = \"http://localhost:$port/show_setup\";\n",
    "my $resp = HTTP::Tiny.get($url);\n",
    "\n",
    "text-stats($resp<content>.decode)"
   ]
  },
  {
   "cell_type": "markdown",
   "metadata": {},
   "source": [
    "\n",
    "### PaLM API key\n",
    "\n",
    "Set PALM_API_KEY with the URL:\n",
    "\n",
    "```\n",
    "http://localhost:9191/setup?llm=PaLM&api_key=<YOUR_API_KEY>\n",
    "```\n"
   ]
  },
  {
   "cell_type": "markdown",
   "metadata": {},
   "source": [
    "-----\n",
    "\n",
    "## DSL translation"
   ]
  },
  {
   "cell_type": "code",
   "execution_count": 30,
   "metadata": {},
   "outputs": [
    {
     "data": {
      "text/plain": [
       "(chars => 123 words => 17 lines => 5)"
      ]
     },
     "execution_count": 30,
     "metadata": {},
     "output_type": "execute_result"
    }
   ],
   "source": [
    "my $cmd = \"DSL TARGET Raku::Reshapers;\n",
    "use data dfMeals;\n",
    "inner join with dfFinelyFoodName over FOODID;\n",
    "group by 'Cuisine';\n",
    "find counts\";\n",
    "\n",
    "text-stats($cmd)"
   ]
  },
  {
   "cell_type": "code",
   "execution_count": 31,
   "metadata": {},
   "outputs": [
    {
     "data": {
      "text/plain": [
       "{content => Buf[uint8]:0x<7B 0A 20 20 22 44 53 4C 22 3A 20 22 44 53 4C 3A 3A 45 6E 67 6C 69 73 68 3A 3A 44 61 74 61 51 75 65 72 79 57 6F 72 6B 66 6C 6F 77 73 22 2C 0A 20 20 22 44 53 4C 54 41 52 47 45 54 22 3A 20 22 52 61 6B 75 3A 3A 52 65 73 68 61 70 65 72 73 22 2C 0A 20 20 22 55 53 45 52 49 44 22 3A 20 22 22 2C 0A 20 20 22 ...>, headers => {content-length => 516, content-type => text/html; charset=utf-8}, protocol => HTTP/1.1, reason => OK, status => 200, success => True, url => http://localhost:9191/translate?command=DSL%20TARGET%20Raku::Reshapers;%0Ause%20data%20dfMeals;%0Ainner%20join%20with%20dfFinelyFoodName%20over%20FOODID;%0Agroup%20by%20'Cuisine';%0Afind%20counts&lang=R}"
      ]
     },
     "execution_count": 31,
     "metadata": {},
     "output_type": "execute_result"
    }
   ],
   "source": [
    "my $url = \"http://localhost:$port/translate?command={uri_encode($cmd)}&lang=R\";\n",
    "my $resp = HTTP::Tiny.get($url);"
   ]
  },
  {
   "cell_type": "code",
   "execution_count": 32,
   "metadata": {},
   "outputs": [
    {
     "data": {
      "text/plain": [
       "{\n",
       "  \"DSL\": \"DSL::English::DataQueryWorkflows\",\n",
       "  \"DSLTARGET\": \"Raku::Reshapers\",\n",
       "  \"USERID\": \"\",\n",
       "  \"COMMAND\": \"DSL TARGET Raku::Reshapers;\\nuse data dfMeals;\\ninner join with dfFinelyFoodName over FOODID;\\ngroup by 'Cuisine';\\nfind counts\",\n",
       "  \"STDERR\": \"\",\n",
       "  \"DSLFUNCTION\": \"proto sub ToDataQueryWorkflowCode (Str $command, |) {*}\",\n",
       "  \"CODE\": \"$obj = dfMeals ;\\n$obj = join-across( $obj, dfFinelyFoodName, (\\\"FOODID\\\"), join-spec=>\\\"Inner\\\") ;\\n$obj = group-by($obj, \\\"Cuisine\\\") ;\\nsay \\\"counts: \\\", $obj>>.elems\"\n",
       "}"
      ]
     },
     "execution_count": 32,
     "metadata": {},
     "output_type": "execute_result"
    }
   ],
   "source": [
    "my $content = $resp<content>.decode"
   ]
  },
  {
   "cell_type": "code",
   "execution_count": 33,
   "metadata": {},
   "outputs": [
    {
     "data": {
      "text/html": [
       "<table border=\"1\"><thead><tr><th>COMMAND</th><th>CODE</th><th>DSLTARGET</th></tr></thead><tbody><tr><td style=\"white-space:pre-wrap; word-wrap:break-word\" align=left>DSL TARGET Raku::Reshapers;\n",
       "use data dfMeals;\n",
       "inner join with dfFinelyFoodName over FOODID;\n",
       "group by &#39;Cuisine&#39;;\n",
       "find counts</td><td style=\"white-space:pre-wrap; word-wrap:break-word\" align=left>$obj = dfMeals ;\n",
       "$obj = join-across( $obj, dfFinelyFoodName, (&quot;FOODID&quot;), join-spec=&gt;&quot;Inner&quot;) ;\n",
       "$obj = group-by($obj, &quot;Cuisine&quot;) ;\n",
       "say &quot;counts: &quot;, $obj&gt;&gt;.elems</td><td style=\"white-space:pre-wrap; word-wrap:break-word\" align=left>Raku::Reshapers</td></tr></tbody></table>"
      ]
     },
     "execution_count": 33,
     "metadata": {},
     "output_type": "execute_result"
    }
   ],
   "source": [
    "#%html\n",
    "my %dsl-result = from-json($content);\n",
    "\n",
    "#my @field-names  = <COMMAND CODE DSL DSLTARGET DSLFUNCTION USERID STDERR>;\n",
    "my @field-names  = <COMMAND CODE DSLTARGET>;\n",
    "[%dsl-result,] \n",
    "==> to-html(:@field-names, align => 'left') \n",
    "==> { $_.subst('<td ', '<td style=\"white-space:pre-wrap; word-wrap:break-word\" '):g }()"
   ]
  },
  {
   "cell_type": "markdown",
   "metadata": {},
   "source": [
    "-------\n",
    "\n",
    "## Using the NLP Template Engine"
   ]
  },
  {
   "cell_type": "code",
   "execution_count": 34,
   "metadata": {},
   "outputs": [
    {
     "data": {
      "text/plain": [
       "(chars => 266 words => 39 lines => 7)"
      ]
     },
     "execution_count": 34,
     "metadata": {},
     "output_type": "execute_result"
    }
   ],
   "source": [
    "my $cmd = q:to/END/;\n",
    "create from aDocs;\n",
    "create document term matrix with stemming;\n",
    "show document term matrix statistics;\n",
    "apply the term weight functions IDF, None, Cosine;\n",
    "extract 60 topics with the method NNMF;\n",
    "echo topics table;\n",
    "show statistical thesaurus for interested, likely, want\n",
    "END\n",
    "\n",
    "text-stats($cmd)"
   ]
  },
  {
   "cell_type": "code",
   "execution_count": 35,
   "metadata": {},
   "outputs": [
    {
     "data": {
      "text/plain": [
       "{content => Buf[uint8]:0x<7B 0A 20 20 22 44 53 4C 46 55 4E 43 54 49 4F 4E 22 3A 20 22 63 6F 6E 63 72 65 74 69 7A 65 22 2C 0A 20 20 22 43 4F 4D 4D 41 4E 44 22 3A 20 22 63 72 65 61 74 65 20 66 72 6F 6D 20 61 44 6F 63 73 3B 5C 6E 63 72 65 61 74 65 20 64 6F 63 75 6D 65 6E 74 20 74 65 72 6D 20 6D 61 74 72 69 78 20 77 69 74 68 20 ...>, headers => {content-length => 1001, content-type => text/html; charset=utf-8}, protocol => HTTP/1.1, reason => OK, status => 200, success => True, url => http://localhost:9191/translate/qas?command=create%20from%20aDocs;%0Acreate%20document%20term%20matrix%20with%20stemming;%0Ashow%20document%20term%20matrix%20statistics;%0Aapply%20the%20term%20weight%20functions%20IDF,%20None,%20Cosine;%0Aextract%2060%20topics%20with%20the%20method%20NNMF;%0Aecho%20topics%20table;%0Ashow%20statistical%20thesaurus%20for%20interested,%20likely,%20want%0A&lang=WL&template=LatentSemanticAnalysis}"
      ]
     },
     "execution_count": 35,
     "metadata": {},
     "output_type": "execute_result"
    }
   ],
   "source": [
    "my $url = \"http://localhost:$port/translate/qas?command={uri_encode($cmd)}&lang=WL&template=LatentSemanticAnalysis\";\n",
    "my $resp = HTTP::Tiny.get($url);"
   ]
  },
  {
   "cell_type": "code",
   "execution_count": 36,
   "metadata": {},
   "outputs": [
    {
     "data": {
      "text/plain": [
       "{\n",
       "  \"DSLFUNCTION\": \"concretize\",\n",
       "  \"COMMAND\": \"create from aDocs;\\ncreate document term matrix with stemming;\\nshow document term matrix statistics;\\napply the term weight functions IDF, None, Cosine;\\nextract 60 topics with the method NNMF;\\necho topics table;\\nshow statistical thesaurus for interested, likely, want\\n\",\n",
       "  \"STDERR\": \"\",\n",
       "  \"CODE\": \"lsaObj=\\nLSAMonUnit[aDocs] ⟹\\nLSAMonMakeDocumentTermMatrix[ \\\"StemmingRules\\\" -> True, \\\"StopWords\\\" -> Automatic] ⟹\\nLSAMonEchoDocumentTermMatrixStatistics[\\\"LogBase\\\" -> 10] ⟹\\nLSAMonApplyTermWeightFunctions[\\\"GlobalWeightFunction\\\" -> \\\"IDF\\\", \\\"LocalWeightFunction\\\" -> \\\"None\\\", \\\"NormalizerFunction\\\" -> \\\"Cosine\\\"] ⟹\\nLSAMonExtractTopics[\\\"NumberOfTopics\\\" -> 60, Method -> \\\"NNMF\\\", \\\"MaxSteps\\\" -> 16, \\\"MinNumberOfDocumentsPerTerm\\\" -> 20] ⟹\\nLSAMonEchoTopicsTable[\\\"NumberOfTerms\\\" -> 10] ⟹\\nLSAMonEchoStatisticalThesaurus[ \\\"Words\\\" -> {\\\"interested\\\", \\\"likely\\\", \\\"want\\\"}];\",\n",
       "  \"DSL\": \"\",\n",
       "  \"DSLTARGET\": \"\",\n",
       "  \"USERID\": \"\"\n",
       "}"
      ]
     },
     "execution_count": 36,
     "metadata": {},
     "output_type": "execute_result"
    }
   ],
   "source": [
    "my $content = $resp<content>.decode"
   ]
  },
  {
   "cell_type": "code",
   "execution_count": 37,
   "metadata": {},
   "outputs": [
    {
     "data": {
      "text/html": [
       "<table border=\"1\"><thead><tr><th>COMMAND</th><th>CODE</th><th>DSLTARGET</th></tr></thead><tbody><tr><td style=\"white-space:pre-wrap; word-wrap:break-word\" align=left>create from aDocs;\n",
       "create document term matrix with stemming;\n",
       "show document term matrix statistics;\n",
       "apply the term weight functions IDF, None, Cosine;\n",
       "extract 60 topics with the method NNMF;\n",
       "echo topics table;\n",
       "show statistical thesaurus for interested, likely, want\n",
       "</td><td style=\"white-space:pre-wrap; word-wrap:break-word\" align=left>lsaObj=\n",
       "LSAMonUnit[aDocs] ⟹\n",
       "LSAMonMakeDocumentTermMatrix[ &quot;StemmingRules&quot; -&gt; True, &quot;StopWords&quot; -&gt; Automatic] ⟹\n",
       "LSAMonEchoDocumentTermMatrixStatistics[&quot;LogBase&quot; -&gt; 10] ⟹\n",
       "LSAMonApplyTermWeightFunctions[&quot;GlobalWeightFunction&quot; -&gt; &quot;IDF&quot;, &quot;LocalWeightFunction&quot; -&gt; &quot;None&quot;, &quot;NormalizerFunction&quot; -&gt; &quot;Cosine&quot;] ⟹\n",
       "LSAMonExtractTopics[&quot;NumberOfTopics&quot; -&gt; 60, Method -&gt; &quot;NNMF&quot;, &quot;MaxSteps&quot; -&gt; 16, &quot;MinNumberOfDocumentsPerTerm&quot; -&gt; 20] ⟹\n",
       "LSAMonEchoTopicsTable[&quot;NumberOfTerms&quot; -&gt; 10] ⟹\n",
       "LSAMonEchoStatisticalThesaurus[ &quot;Words&quot; -&gt; {&quot;interested&quot;, &quot;likely&quot;, &quot;want&quot;}];</td><td style=\"white-space:pre-wrap; word-wrap:break-word\" align=left></td></tr></tbody></table>"
      ]
     },
     "execution_count": 37,
     "metadata": {},
     "output_type": "execute_result"
    }
   ],
   "source": [
    "#%html\n",
    "my %dsl-result = from-json($content);\n",
    "\n",
    "#my @field-names  = <COMMAND CODE DSL DSLTARGET DSLFUNCTION USERID STDERR>;\n",
    "my @field-names  = <COMMAND CODE DSLTARGET>;\n",
    "[%dsl-result,] \n",
    "==> to-html(:@field-names, align => 'left') \n",
    "==> { $_.subst('<td ', '<td style=\"white-space:pre-wrap; word-wrap:break-word\" '):g }()"
   ]
  },
  {
   "cell_type": "markdown",
   "metadata": {},
   "source": [
    "-------\n",
    "\n",
    "## Questions answering"
   ]
  },
  {
   "cell_type": "code",
   "execution_count": 38,
   "metadata": {},
   "outputs": [
    {
     "data": {
      "text/plain": [
       "[What day? How hot? What temperature scale]"
      ]
     },
     "execution_count": 38,
     "metadata": {},
     "output_type": "execute_result"
    }
   ],
   "source": [
    "my $text = q:to/END/;\n",
    "Today is Wednesday and it is 35C hot!\n",
    "END\n",
    "\n",
    "my @questions = [\n",
    "    'What day?',\n",
    "    'How hot?',\n",
    "    'What temperature scale'\n",
    "];"
   ]
  },
  {
   "cell_type": "markdown",
   "metadata": {},
   "source": [
    "By default the simple string answer is obtained (because the argument \"pairs\" is \"false\"):"
   ]
  },
  {
   "cell_type": "code",
   "execution_count": 39,
   "metadata": {},
   "outputs": [
    {
     "data": {
      "text/plain": [
       "Here are the shortest answers:\n",
       "\n",
       "* **What day?** Wednesday\n",
       "* **How hot?** 35C \n"
      ]
     },
     "execution_count": 39,
     "metadata": {},
     "output_type": "execute_result"
    }
   ],
   "source": [
    "my $url = \"http://localhost:$port/find-textual-answer?text={uri_encode($text)}&questions={uri_encode(@questions.head(2).join)}\";\n",
    "my $resp = HTTP::Tiny.get($url);\n",
    "my $content = $resp<content>.decode;"
   ]
  },
  {
   "cell_type": "markdown",
   "metadata": {},
   "source": [
    "If it is desired to obtain a hash with the question-answer pairs the parameter \"pairs\" has to be set to \"true\":"
   ]
  },
  {
   "cell_type": "code",
   "execution_count": 40,
   "metadata": {},
   "outputs": [
    {
     "data": {
      "text/plain": [
       "{\n",
       "  \"What day?\": \"Wednesday\",\n",
       "  \"How hot?\": \"35C\",\n",
       "  \"What temperature scale?\": \"C\"\n",
       "}"
      ]
     },
     "execution_count": 40,
     "metadata": {},
     "output_type": "execute_result"
    }
   ],
   "source": [
    "my $url = \"http://localhost:$port/find-textual-answer?text={uri_encode($text)}&questions={uri_encode(@questions.join(\"\\n\"))}&pairs=true\";\n",
    "my $resp = HTTP::Tiny.get($url);\n",
    "my $content = $resp<content>.decode;"
   ]
  },
  {
   "cell_type": "markdown",
   "metadata": {},
   "source": [
    "-----\n",
    "\n",
    "## Number translation"
   ]
  },
  {
   "cell_type": "markdown",
   "metadata": {},
   "source": [
    "### From numeric word forms to numbers"
   ]
  },
  {
   "cell_type": "code",
   "execution_count": 41,
   "metadata": {},
   "outputs": [
    {
     "data": {
      "text/plain": [
       "{content => Buf[uint8]:0x<7B 0A 20 20 22 44 53 4C 22 3A 20 22 4C 69 6E 67 75 61 3A 3A 4E 75 6D 65 72 69 63 57 6F 72 64 46 6F 72 6D 73 22 2C 0A 20 20 22 43 4F 4D 4D 41 4E 44 22 3A 20 22 D0 B4 D0 B2 D0 B5 D1 81 D1 82 D0 B0 20 D0 B4 D0 B5 D0 B2 D0 B5 D1 82 D0 B4 D0 B5 D1 81 D0 B5 D1 82 20 D0 B8 20 D0 BE D1 81 D0 B5 D0 BC 3B 20 ...>, headers => {content-length => 338, content-type => text/html; charset=utf-8}, protocol => HTTP/1.1, reason => OK, status => 200, success => True, url => http://localhost:9191/translate/numeric?command=%D0%B4%D0%B2%D0%B5%D1%81%D1%82%D0%B0%20%D0%B4%D0%B5%D0%B2%D0%B5%D1%82%D0%B4%D0%B5%D1%81%D0%B5%D1%82%20%D0%B8%20%D0%BE%D1%81%D0%B5%D0%BC;%20one%20million%20fifty%20thousand%20and%20twenty%20seven}"
      ]
     },
     "execution_count": 41,
     "metadata": {},
     "output_type": "execute_result"
    }
   ],
   "source": [
    "my $url = \"http://localhost:$port/translate/numeric?command={uri_encode('двеста деветдесет и осем; one million fifty thousand and twenty seven')}\";\n",
    "my $resp = HTTP::Tiny.get($url);"
   ]
  },
  {
   "cell_type": "code",
   "execution_count": 42,
   "metadata": {},
   "outputs": [
    {
     "data": {
      "text/plain": [
       "{\n",
       "  \"DSL\": \"Lingua::NumericWordForms\",\n",
       "  \"COMMAND\": \"двеста деветдесет и осем; one million fifty thousand and twenty seven\",\n",
       "  \"DSLFUNCTION\": \"from-numeric-word-form\",\n",
       "  \"DSLTARGET\": \"Lingua::NumericWordForms\",\n",
       "  \"USERID\": \"\",\n",
       "  \"CODE\": [\n",
       "    {\n",
       "      \"bulgarian\": 298\n",
       "    },\n",
       "    {\n",
       "      \"english\": 1050027\n",
       "    }\n",
       "  ]\n",
       "}"
      ]
     },
     "execution_count": 42,
     "metadata": {},
     "output_type": "execute_result"
    }
   ],
   "source": [
    "$resp<content>.decode"
   ]
  },
  {
   "cell_type": "markdown",
   "metadata": {},
   "source": [
    "### From numbers to numeric word forms"
   ]
  },
  {
   "cell_type": "code",
   "execution_count": 43,
   "metadata": {},
   "outputs": [
    {
     "data": {
      "text/plain": [
       "{content => Buf[uint8]:0x<7B 0A 20 20 22 44 53 4C 46 55 4E 43 54 49 4F 4E 22 3A 20 22 74 6F 2D 6E 75 6D 65 72 69 63 2D 77 6F 72 64 2D 66 6F 72 6D 22 2C 0A 20 20 22 44 53 4C 22 3A 20 22 4C 69 6E 67 75 61 3A 3A 4E 75 6D 65 72 69 63 57 6F 72 64 46 6F 72 6D 73 22 2C 0A 20 20 22 43 4F 4D 4D 41 4E 44 22 3A 20 22 33 32 33 32 39 3B ...>, headers => {content-length => 340, content-type => text/html; charset=utf-8}, protocol => HTTP/1.1, reason => OK, status => 200, success => True, url => http://localhost:9191/translate/numeric?command=32329;2323&lang=Bulgarian}"
      ]
     },
     "execution_count": 43,
     "metadata": {},
     "output_type": "execute_result"
    }
   ],
   "source": [
    "my $url = \"http://localhost:$port/translate/numeric?command={uri_encode('32329;2323')}&lang=Bulgarian\";\n",
    "my $resp = HTTP::Tiny.get($url);"
   ]
  },
  {
   "cell_type": "code",
   "execution_count": 44,
   "metadata": {},
   "outputs": [
    {
     "data": {
      "text/plain": [
       "{\n",
       "  \"DSLFUNCTION\": \"to-numeric-word-form\",\n",
       "  \"DSL\": \"Lingua::NumericWordForms\",\n",
       "  \"COMMAND\": \"32329;2323\",\n",
       "  \"DSLTARGET\": \"Lingua::NumericWordForms\",\n",
       "  \"CODE\": [\n",
       "    \"тридесет и две хиляди триста двадесет и девет\",\n",
       "    \"две хиляди триста двадесет и три\"\n",
       "  ],\n",
       "  \"USERID\": \"\"\n",
       "}"
      ]
     },
     "execution_count": 44,
     "metadata": {},
     "output_type": "execute_result"
    }
   ],
   "source": [
    "$resp<content>.decode"
   ]
  },
  {
   "cell_type": "code",
   "execution_count": null,
   "metadata": {},
   "outputs": [],
   "source": []
  }
 ],
 "metadata": {
  "kernelspec": {
   "display_name": "RakuChatbook",
   "language": "raku",
   "name": "raku"
  },
  "language_info": {
   "file_extension": ".raku",
   "mimetype": "text/x-raku",
   "name": "raku",
   "version": "6.d"
  }
 },
 "nbformat": 4,
 "nbformat_minor": 2
}
